{
 "cells": [
  {
   "cell_type": "code",
   "execution_count": 257,
   "metadata": {
    "ExecuteTime": {
     "end_time": "2019-11-17T17:15:25.956097Z",
     "start_time": "2019-11-17T17:15:25.811918Z"
    },
    "collapsed": true
   },
   "outputs": [],
   "source": [
    "import os\n",
    "import sys\n",
    "import itertools\n",
    "\n",
    "import numpy as np\n",
    "import matplotlib.pyplot as plt\n",
    "import matplotlib as mpl\n",
    "import scipy.signal\n",
    "import scipy.stats\n",
    "\n",
    "from importlib import reload\n",
    "import dill\n",
    "import scipy.special\n",
    "import scipy.signal\n",
    "import scipy.optimize\n",
    "import timeit \n",
    "\n",
    "import island_evo_simulation_methods as ie\n",
    "reload(ie)\n",
    "\n",
    "from IPython.display import display, Math\n",
    "\n",
    "def mathprint(string):\n",
    "    return display(Math(string))\n",
    "\n",
    "# reload(ml)\n",
    "\n",
    "%matplotlib inline\n",
    "\n",
    "font = {'family' : 'serif',\n",
    "        'size'   : 16}\n",
    "text = {'usetex' : True}\n",
    "\n",
    "plt.rc('font', **font)\n",
    "plt.rc('text',**text)\n",
    "plt.rc('axes', titlesize=18)"
   ]
  },
  {
   "cell_type": "code",
   "execution_count": 303,
   "metadata": {
    "ExecuteTime": {
     "end_time": "2019-11-17T17:24:27.645888Z",
     "start_time": "2019-11-17T17:24:16.172044Z"
    },
    "collapsed": false
   },
   "outputs": [
    {
     "name": "stdout",
     "output_type": "stream",
     "text": [
      "0\n",
      "1\n",
      "2\n",
      "3\n",
      "4\n",
      "5\n",
      "6\n",
      "7\n",
      "8\n",
      "9\n",
      "10\n",
      "11\n",
      "12\n",
      "13\n",
      "14\n",
      "15\n",
      "16\n",
      "17\n",
      "18\n",
      "19\n",
      "20\n"
     ]
    },
    {
     "data": {
      "text/plain": [
       "<island_evo_simulation_methods.IslandsEvo at 0x1c278ca128>"
      ]
     },
     "execution_count": 303,
     "metadata": {},
     "output_type": "execute_result"
    }
   ],
   "source": [
    "K = 30\n",
    "D = 10\n",
    "m = 1e-5\n",
    "gamma = -0.8\n",
    "thresh = -40\n",
    "invasion_freq = 1/K\n",
    "dt = 0.1\n",
    "sample_num = 5\n",
    "mu = 3\n",
    "seed = 0\n",
    "epoch_timescale = 5\n",
    "epoch_num = 20\n",
    "corr_mut = 0\n",
    "sig_S = 0\n",
    "epochs_to_save_traj = [0,-1]\n",
    "file_name = 'islands_evo_test'\n",
    "\n",
    "\n",
    "ie.IslandsEvo(file_name, D, K, m, gamma, thresh, invasion_freq, dt, mu, seed, epoch_timescale, epoch_num,\n",
    "                 sample_num, corr_mut=corr_mut, sig_S = sig_S, epochs_to_save_traj = epochs_to_save_traj)"
   ]
  },
  {
   "cell_type": "code",
   "execution_count": 304,
   "metadata": {
    "ExecuteTime": {
     "end_time": "2019-11-17T17:24:28.996381Z",
     "start_time": "2019-11-17T17:24:28.957534Z"
    },
    "collapsed": false
   },
   "outputs": [],
   "source": [
    "data = np.load(file_name+'.npz')\n",
    "data = data['data'].item()"
   ]
  },
  {
   "cell_type": "code",
   "execution_count": 305,
   "metadata": {
    "ExecuteTime": {
     "end_time": "2019-11-17T17:24:29.330851Z",
     "start_time": "2019-11-17T17:24:29.320093Z"
    },
    "collapsed": false
   },
   "outputs": [
    {
     "data": {
      "text/plain": [
       "{-1: array([[2.54018038e-06, 3.77178487e-06, 5.43918512e-06, ...,\n",
       "         3.62107617e-04, 3.08042957e-04, 2.28147375e-04],\n",
       "        [5.56126434e-02, 5.16370338e-02, 4.84621091e-02, ...,\n",
       "         0.00000000e+00, 0.00000000e+00, 0.00000000e+00],\n",
       "        [8.63822868e-07, 8.65526422e-07, 8.75745618e-07, ...,\n",
       "         0.00000000e+00, 0.00000000e+00, 0.00000000e+00],\n",
       "        ...,\n",
       "        [3.03030303e-02, 2.84229638e-02, 2.77263328e-02, ...,\n",
       "         0.00000000e+00, 0.00000000e+00, 0.00000000e+00],\n",
       "        [3.03030303e-02, 4.05670947e-02, 5.39953392e-02, ...,\n",
       "         2.76624843e-01, 2.76932916e-01, 2.73501506e-01],\n",
       "        [3.03030303e-02, 5.95037595e-02, 1.12791564e-01, ...,\n",
       "         1.08798836e-02, 9.47300656e-03, 7.62095738e-03]]),\n",
       " 0: array([[2.48821807e-01, 2.99194186e-01, 3.37003985e-01, ...,\n",
       "         5.32780692e-05, 4.43424549e-05, 3.70664090e-05],\n",
       "        [3.46769169e-03, 3.11521031e-03, 2.81577222e-03, ...,\n",
       "         5.10990308e-03, 5.60374559e-03, 6.12723069e-03],\n",
       "        [3.51966075e-05, 4.34048734e-05, 5.08333076e-05, ...,\n",
       "         0.00000000e+00, 0.00000000e+00, 0.00000000e+00],\n",
       "        ...,\n",
       "        [1.33657261e-01, 1.45029773e-01, 1.47444631e-01, ...,\n",
       "         1.70039079e-06, 1.34218617e-06, 1.04066755e-06],\n",
       "        [5.98064828e-02, 5.22125091e-02, 4.23899487e-02, ...,\n",
       "         1.58825066e-15, 1.04714554e-15, 7.28477656e-16],\n",
       "        [3.94170818e-02, 3.81189737e-02, 3.59701588e-02, ...,\n",
       "         1.29184808e-05, 1.42606028e-05, 1.58919466e-05]])}"
      ]
     },
     "execution_count": 305,
     "metadata": {},
     "output_type": "execute_result"
    }
   ],
   "source": [
    "data['n_traj_dict']"
   ]
  },
  {
   "cell_type": "code",
   "execution_count": 306,
   "metadata": {
    "ExecuteTime": {
     "end_time": "2019-11-17T17:24:30.161811Z",
     "start_time": "2019-11-17T17:24:29.804295Z"
    },
    "collapsed": false
   },
   "outputs": [
    {
     "data": {
      "image/png": "[encoded data removed]",
      "text/plain": [
       "<matplotlib.figure.Figure at 0x1c273561d0>"
      ]
     },
     "metadata": {},
     "output_type": "display_data"
    }
   ],
   "source": [
    "n_traj = data['n_traj_dict'][-1]\n",
    "K = n_traj.shape[0]\n",
    "for ii in range(K):\n",
    "    plt.plot(n_traj[ii,:])\n",
    "    \n",
    "plt.yscale('log')"
   ]
  },
  {
   "cell_type": "code",
   "execution_count": 307,
   "metadata": {
    "ExecuteTime": {
     "end_time": "2019-11-17T17:24:32.045090Z",
     "start_time": "2019-11-17T17:24:32.040303Z"
    },
    "collapsed": false
   },
   "outputs": [
    {
     "name": "stdout",
     "output_type": "stream",
     "text": [
      "dict_keys(['sig_S', 'current_species_idx', 'parent_idx_dict', 'K_tot', 'sim_start_time', 'S_mean_ave_list', 'S', 'gamma', 'epoch_num', 'sample_num', 'mu', 'n_traj_dict', 'epoch_time_list', 'D', 'n2_mean_array', 'n_init', 'thresh', 'n2_mean_ave_list', 'sim_end_time', 'dt_list', 'S_mean_std_list', 'm', 'S_full', 'seed', 'starting_species_idx_list', 'corr_mut', 'V_init', 'dt', 'n2_mean_std_list', 'V', 'n_mean_ave_list', 'force_mean_ave_list', 'file_name', 'K0', 'V_dict', 'n0', 'lambda_mean_array', 'S_init', 'n_mean_array', 'N', 'epochs_to_save_traj', 'n_mean_std_list', 'invasion_freq', 'count_short', 'lambda_mean_std_list', 'lambda_mean_ave_list', 'epoch_timescale', 'n_init_list', 'force_mean_std_list'])\n"
     ]
    }
   ],
   "source": [
    "print(data.keys())"
   ]
  },
  {
   "cell_type": "code",
   "execution_count": 308,
   "metadata": {
    "ExecuteTime": {
     "end_time": "2019-11-17T17:24:32.430490Z",
     "start_time": "2019-11-17T17:24:32.423498Z"
    },
    "collapsed": false
   },
   "outputs": [
    {
     "data": {
      "text/plain": [
       "[0.0,\n",
       " 0.0,\n",
       " 0.0,\n",
       " 0.0,\n",
       " 0.0,\n",
       " 0.0,\n",
       " 0.0,\n",
       " 0.0,\n",
       " 0.0,\n",
       " 0.0,\n",
       " 0.0,\n",
       " 0.0,\n",
       " 0.0,\n",
       " 0.0,\n",
       " 0.0,\n",
       " 0.0,\n",
       " 0.0,\n",
       " 0.0,\n",
       " 0.0,\n",
       " 0.0,\n",
       " 0.0]"
      ]
     },
     "execution_count": 308,
     "metadata": {},
     "output_type": "execute_result"
    }
   ],
   "source": [
    "data['S_mean_ave_list']"
   ]
  },
  {
   "cell_type": "code",
   "execution_count": 309,
   "metadata": {
    "ExecuteTime": {
     "end_time": "2019-11-17T17:24:33.651152Z",
     "start_time": "2019-11-17T17:24:33.646328Z"
    },
    "collapsed": false
   },
   "outputs": [
    {
     "data": {
      "text/plain": [
       "[30,\n",
       " 24,\n",
       " 22,\n",
       " 17,\n",
       " 17,\n",
       " 17,\n",
       " 18,\n",
       " 20,\n",
       " 21,\n",
       " 20,\n",
       " 22,\n",
       " 23,\n",
       " 25,\n",
       " 25,\n",
       " 23,\n",
       " 21,\n",
       " 16,\n",
       " 14,\n",
       " 16,\n",
       " 19,\n",
       " 16]"
      ]
     },
     "execution_count": 309,
     "metadata": {},
     "output_type": "execute_result"
    }
   ],
   "source": [
    "[len(n_mean) for n_mean in data['n_mean_ave_list']]"
   ]
  },
  {
   "cell_type": "code",
   "execution_count": 310,
   "metadata": {
    "ExecuteTime": {
     "end_time": "2019-11-17T17:24:40.880367Z",
     "start_time": "2019-11-17T17:24:40.602084Z"
    },
    "collapsed": false
   },
   "outputs": [
    {
     "data": {
      "text/plain": [
       "<matplotlib.image.AxesImage at 0x1c27984518>"
      ]
     },
     "execution_count": 310,
     "metadata": {},
     "output_type": "execute_result"
    },
    {
     "data": {
      "image/png": "[encoded data removed]",
      "text/plain": [
       "<matplotlib.figure.Figure at 0x1c27618748>"
      ]
     },
     "metadata": {},
     "output_type": "display_data"
    }
   ],
   "source": [
    "K_tot = data['K_tot']\n",
    "V_dict = data['V_dict']\n",
    "V = np.zeros((K_tot,K_tot))\n",
    "for ii in range(K_tot):\n",
    "    for jj in range(K_tot):\n",
    "        V[ii,jj] = V_dict.get((ii,jj),np.nan)\n",
    "plt.matshow(V)"
   ]
  },
  {
   "cell_type": "code",
   "execution_count": 320,
   "metadata": {
    "ExecuteTime": {
     "end_time": "2019-11-17T17:25:44.928846Z",
     "start_time": "2019-11-17T17:25:44.923117Z"
    },
    "collapsed": false
   },
   "outputs": [
    {
     "data": {
      "text/plain": [
       "array([[ 0.48360606,  1.80006782,  1.63714503, ...,         nan,\n",
       "                nan,         nan],\n",
       "       [-1.54698618, -0.28235993, -0.7164796 , ...,         nan,\n",
       "                nan,         nan],\n",
       "       [-0.21987973,  0.48706195, -0.10792954, ...,         nan,\n",
       "                nan,         nan],\n",
       "       ...,\n",
       "       [        nan,         nan,         nan, ..., -0.15601782,\n",
       "         1.64224472,  1.81711968],\n",
       "       [        nan,         nan,         nan, ..., -1.37380984,\n",
       "        -0.79701299,  0.97992878],\n",
       "       [        nan,         nan,         nan, ..., -0.86402162,\n",
       "        -0.57097316, -0.52844159]])"
      ]
     },
     "execution_count": 320,
     "metadata": {},
     "output_type": "execute_result"
    }
   ],
   "source": [
    "V"
   ]
  },
  {
   "cell_type": "code",
   "execution_count": 312,
   "metadata": {
    "ExecuteTime": {
     "end_time": "2019-11-17T17:24:50.380467Z",
     "start_time": "2019-11-17T17:24:50.375568Z"
    },
    "collapsed": false
   },
   "outputs": [
    {
     "data": {
      "text/plain": [
       "array([[-0.,  0.,  0.,  0.,  0.,  0.,  0.,  0.,  0.,  0.,  0.,  0.,  0.,\n",
       "         0.,  0.]])"
      ]
     },
     "execution_count": 312,
     "metadata": {},
     "output_type": "execute_result"
    }
   ],
   "source": [
    "data['S']"
   ]
  },
  {
   "cell_type": "code",
   "execution_count": 313,
   "metadata": {
    "ExecuteTime": {
     "end_time": "2019-11-17T17:24:51.030047Z",
     "start_time": "2019-11-17T17:24:51.024177Z"
    },
    "collapsed": false
   },
   "outputs": [
    {
     "data": {
      "text/plain": [
       "['__class__',\n",
       " '__contains__',\n",
       " '__delattr__',\n",
       " '__delitem__',\n",
       " '__dir__',\n",
       " '__doc__',\n",
       " '__eq__',\n",
       " '__format__',\n",
       " '__ge__',\n",
       " '__getattribute__',\n",
       " '__getitem__',\n",
       " '__gt__',\n",
       " '__hash__',\n",
       " '__init__',\n",
       " '__iter__',\n",
       " '__le__',\n",
       " '__len__',\n",
       " '__lt__',\n",
       " '__ne__',\n",
       " '__new__',\n",
       " '__reduce__',\n",
       " '__reduce_ex__',\n",
       " '__repr__',\n",
       " '__setattr__',\n",
       " '__setitem__',\n",
       " '__sizeof__',\n",
       " '__str__',\n",
       " '__subclasshook__',\n",
       " 'clear',\n",
       " 'copy',\n",
       " 'fromkeys',\n",
       " 'get',\n",
       " 'items',\n",
       " 'keys',\n",
       " 'pop',\n",
       " 'popitem',\n",
       " 'setdefault',\n",
       " 'update',\n",
       " 'values']"
      ]
     },
     "execution_count": 313,
     "metadata": {},
     "output_type": "execute_result"
    }
   ],
   "source": [
    "dir(V_dict)"
   ]
  },
  {
   "cell_type": "code",
   "execution_count": 319,
   "metadata": {
    "ExecuteTime": {
     "end_time": "2019-11-17T17:25:31.862620Z",
     "start_time": "2019-11-17T17:25:31.857890Z"
    },
    "collapsed": false
   },
   "outputs": [
    {
     "data": {
      "text/plain": [
       "196680"
      ]
     },
     "execution_count": 319,
     "metadata": {},
     "output_type": "execute_result"
    }
   ],
   "source": [
    "V_dict.__sizeof__()"
   ]
  },
  {
   "cell_type": "code",
   "execution_count": 315,
   "metadata": {
    "ExecuteTime": {
     "end_time": "2019-11-17T17:24:54.776544Z",
     "start_time": "2019-11-17T17:24:54.772028Z"
    },
    "collapsed": false
   },
   "outputs": [
    {
     "data": {
      "text/plain": [
       "28680"
      ]
     },
     "execution_count": 315,
     "metadata": {},
     "output_type": "execute_result"
    }
   ],
   "source": [
    "list(V_dict.values()).__sizeof__()"
   ]
  },
  {
   "cell_type": "code",
   "execution_count": 318,
   "metadata": {
    "ExecuteTime": {
     "end_time": "2019-11-17T17:25:29.531332Z",
     "start_time": "2019-11-17T17:25:29.526757Z"
    },
    "collapsed": false
   },
   "outputs": [
    {
     "data": {
      "text/plain": [
       "69192"
      ]
     },
     "execution_count": 318,
     "metadata": {},
     "output_type": "execute_result"
    }
   ],
   "source": [
    "np.zeros((data['K_tot'],data['K_tot']),dtype=np.float64).nbytes"
   ]
  },
  {
   "cell_type": "code",
   "execution_count": 323,
   "metadata": {
    "ExecuteTime": {
     "end_time": "2019-11-17T22:50:05.835583Z",
     "start_time": "2019-11-17T22:50:05.827028Z"
    },
    "collapsed": false
   },
   "outputs": [
    {
     "data": {
      "text/plain": [
       "False"
      ]
     },
     "execution_count": 323,
     "metadata": {},
     "output_type": "execute_result"
    }
   ],
   "source": [
    "3 in []"
   ]
  },
  {
   "cell_type": "code",
   "execution_count": null,
   "metadata": {
    "collapsed": true
   },
   "outputs": [],
   "source": []
  }
 ],
 "metadata": {
  "kernelspec": {
   "display_name": "Python 3",
   "language": "python",
   "name": "python3"
  },
  "language_info": {
   "codemirror_mode": {
    "name": "ipython",
    "version": 3
   },
   "file_extension": ".py",
   "mimetype": "text/x-python",
   "name": "python",
   "nbconvert_exporter": "python",
   "pygments_lexer": "ipython3",
   "version": "3.5.2"
  },
  "latex_envs": {
   "LaTeX_envs_menu_present": true,
   "autocomplete": true,
   "bibliofile": "biblio.bib",
   "cite_by": "apalike",
   "current_citInitial": 1,
   "eqLabelWithNumbers": true,
   "eqNumInitial": 1,
   "hotkeys": {
    "equation": "Ctrl-E",
    "itemize": "Ctrl-I"
   },
   "labels_anchors": false,
   "latex_user_defs": false,
   "report_style_numbering": false,
   "user_envs_cfg": false
  }
 },
 "nbformat": 4,
 "nbformat_minor": 0
}
