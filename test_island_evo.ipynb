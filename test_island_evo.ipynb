{
 "cells": [
  {
   "cell_type": "code",
   "execution_count": 108,
   "metadata": {
    "ExecuteTime": {
     "end_time": "2019-11-15T16:09:09.795426Z",
     "start_time": "2019-11-15T16:09:09.702481Z"
    },
    "collapsed": true
   },
   "outputs": [],
   "source": [
    "import os\n",
    "import sys\n",
    "import itertools\n",
    "\n",
    "import numpy as np\n",
    "import matplotlib.pyplot as plt\n",
    "import matplotlib as mpl\n",
    "import scipy.signal\n",
    "import scipy.stats\n",
    "\n",
    "from importlib import reload\n",
    "import dill\n",
    "import scipy.special\n",
    "import scipy.signal\n",
    "import scipy.optimize\n",
    "import timeit \n",
    "\n",
    "import island_evo_simulation_methods as ie\n",
    "reload(ie)\n",
    "\n",
    "from IPython.display import display, Math\n",
    "\n",
    "def mathprint(string):\n",
    "    return display(Math(string))\n",
    "\n",
    "# reload(ml)\n",
    "\n",
    "%matplotlib inline\n",
    "\n",
    "font = {'family' : 'serif',\n",
    "        'size'   : 16}\n",
    "text = {'usetex' : True}\n",
    "\n",
    "plt.rc('font', **font)\n",
    "plt.rc('text',**text)\n",
    "plt.rc('axes', titlesize=18)"
   ]
  },
  {
   "cell_type": "code",
   "execution_count": 126,
   "metadata": {
    "ExecuteTime": {
     "end_time": "2019-11-15T16:25:54.918764Z",
     "start_time": "2019-11-15T16:25:41.145237Z"
    },
    "collapsed": false
   },
   "outputs": [
    {
     "name": "stdout",
     "output_type": "stream",
     "text": [
      "0\n",
      "1\n",
      "2\n",
      "3\n",
      "4\n",
      "5\n",
      "6\n",
      "7\n",
      "8\n",
      "9\n",
      "10\n"
     ]
    },
    {
     "data": {
      "text/plain": [
       "<island_evo_simulation_methods.IslandsEvo at 0x1c26075ef0>"
      ]
     },
     "execution_count": 126,
     "metadata": {},
     "output_type": "execute_result"
    }
   ],
   "source": [
    "K = 30\n",
    "D = 10\n",
    "m = 1e-5\n",
    "gamma = -0.8\n",
    "thresh = -40\n",
    "invasion_freq = 1/K\n",
    "dt = 0.1\n",
    "sample_num = 5\n",
    "mu = 3\n",
    "seed = 0\n",
    "epoch_timescale = 15\n",
    "epoch_num = 10\n",
    "c_A = 0.5\n",
    "epochs_to_save_traj = [0,-1]\n",
    "file_name = 'islands_evo_test'\n",
    "\n",
    "\n",
    "ie.IslandsEvo(file_name, D, K, m, gamma, thresh, invasion_freq, dt, mu, seed, epoch_timescale, epoch_num,\n",
    "                 sample_num, c_A=c_A, epochs_to_save_traj = epochs_to_save_traj)"
   ]
  },
  {
   "cell_type": "code",
   "execution_count": 127,
   "metadata": {
    "ExecuteTime": {
     "end_time": "2019-11-15T16:26:35.990152Z",
     "start_time": "2019-11-15T16:26:35.980963Z"
    },
    "collapsed": false
   },
   "outputs": [],
   "source": [
    "data = np.load(file_name+'.npz')\n",
    "data = data['data'].item()"
   ]
  },
  {
   "cell_type": "code",
   "execution_count": 128,
   "metadata": {
    "ExecuteTime": {
     "end_time": "2019-11-15T16:26:36.178994Z",
     "start_time": "2019-11-15T16:26:36.172432Z"
    },
    "collapsed": false
   },
   "outputs": [
    {
     "data": {
      "text/plain": [
       "{-1: array([[0.26186017, 0.26224375, 0.26216866, ..., 0.28804802, 0.28804799,\n",
       "         0.28804795],\n",
       "        [0.64173644, 0.6569378 , 0.66962832, ..., 0.7059086 , 0.70590863,\n",
       "         0.70590866],\n",
       "        [0.00549429, 0.00568877, 0.00583658, ..., 0.00604338, 0.00604338,\n",
       "         0.00604339],\n",
       "        [0.03030303, 0.02174355, 0.01542222, ..., 0.        , 0.        ,\n",
       "         0.        ],\n",
       "        [0.03030303, 0.02888054, 0.02734055, ..., 0.        , 0.        ,\n",
       "         0.        ],\n",
       "        [0.03030303, 0.02450558, 0.01960367, ..., 0.        , 0.        ,\n",
       "         0.        ]]),\n",
       " 0: array([[2.48821807e-01, 2.99194186e-01, 3.37003985e-01, ...,\n",
       "         1.00702919e-13, 9.15220081e-14, 0.00000000e+00],\n",
       "        [3.46769169e-03, 3.11521031e-03, 2.81577222e-03, ...,\n",
       "         6.01491542e-03, 5.68720209e-03, 0.00000000e+00],\n",
       "        [3.51966075e-05, 4.34048734e-05, 5.08333076e-05, ...,\n",
       "         0.00000000e+00, 0.00000000e+00, 0.00000000e+00],\n",
       "        ...,\n",
       "        [1.33657261e-01, 1.45029773e-01, 1.47444631e-01, ...,\n",
       "         0.00000000e+00, 0.00000000e+00, 0.00000000e+00],\n",
       "        [5.98064828e-02, 5.22125091e-02, 4.23899487e-02, ...,\n",
       "         0.00000000e+00, 0.00000000e+00, 0.00000000e+00],\n",
       "        [3.94170818e-02, 3.81189737e-02, 3.59701588e-02, ...,\n",
       "         6.84042917e-06, 6.61032555e-06, 0.00000000e+00]])}"
      ]
     },
     "execution_count": 128,
     "metadata": {},
     "output_type": "execute_result"
    }
   ],
   "source": [
    "data['n_traj_dict']"
   ]
  },
  {
   "cell_type": "code",
   "execution_count": 129,
   "metadata": {
    "ExecuteTime": {
     "end_time": "2019-11-15T16:26:37.685986Z",
     "start_time": "2019-11-15T16:26:37.417748Z"
    },
    "collapsed": false
   },
   "outputs": [
    {
     "data": {
      "image/png": "[encoded data removed]",
      "text/plain": [
       "<matplotlib.figure.Figure at 0x106f10588>"
      ]
     },
     "metadata": {},
     "output_type": "display_data"
    }
   ],
   "source": [
    "n_traj = data['n_traj_dict'][-1]\n",
    "K = n_traj.shape[0]\n",
    "for ii in range(K):\n",
    "    plt.plot(n_traj[ii,:])\n",
    "    \n",
    "plt.yscale('log')"
   ]
  },
  {
   "cell_type": "code",
   "execution_count": 130,
   "metadata": {
    "ExecuteTime": {
     "end_time": "2019-11-15T16:26:39.732660Z",
     "start_time": "2019-11-15T16:26:39.729264Z"
    },
    "collapsed": false
   },
   "outputs": [
    {
     "name": "stdout",
     "output_type": "stream",
     "text": [
      "dict_keys(['dt_list', 'thresh', 'sim_end_time', 'm', 'current_species_idx', 'parent_idx_dict', 'K_tot', 'starting_species_idx_list', 'V_init', 'dt', 'n2_mean_std_list', 'epoch_num', 'V', 'sim_start_time', 'n_init', 'n_mean_ave_list', 'force_mean_ave_list', 'file_name', 'epoch_time_list', 'K0', 'gamma', 'n0', 'lambda_mean_array', 'sample_num', 'n_mean_array', 'N', 'mu', 'epochs_to_save_traj', 'c_A', 'n_mean_std_list', 'n_traj_dict', 'invasion_freq', 'force_mean_std_list', 'seed', 'n2_mean_array', 'lambda_mean_ave_list', 'epoch_timescale', 'lambda_mean_std_list', 'n_init_list', 'n2_mean_ave_list', 'count_short', 'D'])\n"
     ]
    }
   ],
   "source": [
    "print(data.keys())"
   ]
  },
  {
   "cell_type": "code",
   "execution_count": 131,
   "metadata": {
    "ExecuteTime": {
     "end_time": "2019-11-15T16:26:40.235545Z",
     "start_time": "2019-11-15T16:26:40.229579Z"
    },
    "collapsed": false
   },
   "outputs": [
    {
     "data": {
      "text/plain": [
       "[array([ 0,  1,  2,  3,  4,  5,  6,  7,  8,  9, 10, 11, 12, 13, 14, 15, 16,\n",
       "        17, 18, 19, 20, 21, 22, 23, 24, 25, 26, 27, 28, 29]),\n",
       " array([ 0,  1,  3,  8, 11, 14, 16, 17, 19, 20, 24, 26, 29, 30, 31, 32]),\n",
       " array([ 1,  3,  8, 11, 14, 16, 17, 19, 20, 24, 26, 30, 31, 32, 33, 34, 35]),\n",
       " array([ 1,  3,  8, 11, 14, 16, 17, 19, 20, 24, 26, 30, 32, 33, 34, 35, 36,\n",
       "        37, 38]),\n",
       " array([ 1,  3,  8, 11, 14, 16, 17, 19, 20, 24, 26, 32, 33, 34, 35, 38, 39,\n",
       "        40, 41]),\n",
       " array([ 3,  8, 14, 17, 19, 20, 24, 32, 33, 34, 35, 38, 39, 42, 43, 44]),\n",
       " array([ 3,  8, 19, 20, 24, 32, 35, 39, 43, 45, 46, 47]),\n",
       " array([35, 47, 48, 49, 50]),\n",
       " array([35, 48, 51, 52, 53]),\n",
       " array([35, 48, 54, 55, 56]),\n",
       " array([35, 48, 56, 57, 58, 59])]"
      ]
     },
     "execution_count": 131,
     "metadata": {},
     "output_type": "execute_result"
    }
   ],
   "source": [
    "data['starting_species_idx_list']"
   ]
  },
  {
   "cell_type": "code",
   "execution_count": null,
   "metadata": {
    "collapsed": true
   },
   "outputs": [],
   "source": []
  },
  {
   "cell_type": "code",
   "execution_count": null,
   "metadata": {
    "collapsed": true
   },
   "outputs": [],
   "source": []
  }
 ],
 "metadata": {
  "kernelspec": {
   "display_name": "Python 3",
   "language": "python",
   "name": "python3"
  },
  "language_info": {
   "codemirror_mode": {
    "name": "ipython",
    "version": 3
   },
   "file_extension": ".py",
   "mimetype": "text/x-python",
   "name": "python",
   "nbconvert_exporter": "python",
   "pygments_lexer": "ipython3",
   "version": "3.5.2"
  },
  "latex_envs": {
   "LaTeX_envs_menu_present": true,
   "autocomplete": true,
   "bibliofile": "biblio.bib",
   "cite_by": "apalike",
   "current_citInitial": 1,
   "eqLabelWithNumbers": true,
   "eqNumInitial": 1,
   "hotkeys": {
    "equation": "Ctrl-E",
    "itemize": "Ctrl-I"
   },
   "labels_anchors": false,
   "latex_user_defs": false,
   "report_style_numbering": false,
   "user_envs_cfg": false
  }
 },
 "nbformat": 4,
 "nbformat_minor": 0
}
