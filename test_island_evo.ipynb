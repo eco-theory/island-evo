{
 "cells": [
  {
   "cell_type": "code",
   "execution_count": 149,
   "metadata": {
    "ExecuteTime": {
     "end_time": "2019-11-15T17:08:25.629635Z",
     "start_time": "2019-11-15T17:08:25.590280Z"
    },
    "collapsed": true
   },
   "outputs": [],
   "source": [
    "import os\n",
    "import sys\n",
    "import itertools\n",
    "\n",
    "import numpy as np\n",
    "import matplotlib.pyplot as plt\n",
    "import matplotlib as mpl\n",
    "import scipy.signal\n",
    "import scipy.stats\n",
    "\n",
    "from importlib import reload\n",
    "import dill\n",
    "import scipy.special\n",
    "import scipy.signal\n",
    "import scipy.optimize\n",
    "import timeit \n",
    "\n",
    "import island_evo_simulation_methods as ie\n",
    "reload(ie)\n",
    "\n",
    "from IPython.display import display, Math\n",
    "\n",
    "def mathprint(string):\n",
    "    return display(Math(string))\n",
    "\n",
    "# reload(ml)\n",
    "\n",
    "%matplotlib inline\n",
    "\n",
    "font = {'family' : 'serif',\n",
    "        'size'   : 16}\n",
    "text = {'usetex' : True}\n",
    "\n",
    "plt.rc('font', **font)\n",
    "plt.rc('text',**text)\n",
    "plt.rc('axes', titlesize=18)"
   ]
  },
  {
   "cell_type": "code",
   "execution_count": 164,
   "metadata": {
    "ExecuteTime": {
     "end_time": "2019-11-15T17:09:53.951574Z",
     "start_time": "2019-11-15T17:09:51.383821Z"
    },
    "collapsed": false
   },
   "outputs": [
    {
     "name": "stdout",
     "output_type": "stream",
     "text": [
      "(1, 14)\n",
      "(1, 14)\n",
      "0\n",
      "(1, 12)\n",
      "(1, 12)\n",
      "1\n",
      "(1, 12)\n",
      "(1, 12)\n",
      "2\n",
      "(1, 13)\n",
      "(1, 13)\n",
      "3\n",
      "(1, 13)\n",
      "(1, 13)\n",
      "4\n",
      "(1, 16)\n",
      "(1, 16)\n",
      "5\n"
     ]
    },
    {
     "data": {
      "text/plain": [
       "<island_evo_simulation_methods.IslandsEvo at 0x1c261262b0>"
      ]
     },
     "execution_count": 164,
     "metadata": {},
     "output_type": "execute_result"
    }
   ],
   "source": [
    "K = 30\n",
    "D = 10\n",
    "m = 1e-5\n",
    "gamma = -0.8\n",
    "thresh = -40\n",
    "invasion_freq = 1/K\n",
    "dt = 0.1\n",
    "sample_num = 5\n",
    "mu = 3\n",
    "seed = 0\n",
    "epoch_timescale = 5\n",
    "epoch_num = 5\n",
    "c_A = 0.5\n",
    "sig_S = 1/np.sqrt(K)\n",
    "epochs_to_save_traj = [0,-1]\n",
    "file_name = 'islands_evo_test'\n",
    "\n",
    "\n",
    "ie.IslandsEvo(file_name, D, K, m, gamma, thresh, invasion_freq, dt, mu, seed, epoch_timescale, epoch_num,\n",
    "                 sample_num, corr_mut=c_A, sig_S = sig_S, epochs_to_save_traj = epochs_to_save_traj)"
   ]
  },
  {
   "cell_type": "code",
   "execution_count": 165,
   "metadata": {
    "ExecuteTime": {
     "end_time": "2019-11-15T17:09:56.238431Z",
     "start_time": "2019-11-15T17:09:56.231608Z"
    },
    "collapsed": false
   },
   "outputs": [],
   "source": [
    "data = np.load(file_name+'.npz')\n",
    "data = data['data'].item()"
   ]
  },
  {
   "cell_type": "code",
   "execution_count": 166,
   "metadata": {
    "ExecuteTime": {
     "end_time": "2019-11-15T17:09:56.775600Z",
     "start_time": "2019-11-15T17:09:56.769274Z"
    },
    "collapsed": false
   },
   "outputs": [
    {
     "data": {
      "text/plain": [
       "{-1: array([[6.02062146e-02, 5.90521153e-02, 5.86822052e-02, ...,\n",
       "         7.55085776e-02, 7.58685655e-02, 7.60118844e-02],\n",
       "        [4.83190569e-04, 4.77499218e-04, 4.75560025e-04, ...,\n",
       "         1.57654869e-07, 1.59243146e-07, 1.60235131e-07],\n",
       "        [1.71815292e-01, 1.75322468e-01, 1.78526874e-01, ...,\n",
       "         1.94212871e-01, 1.92486303e-01, 1.90772698e-01],\n",
       "        ...,\n",
       "        [3.03030303e-02, 3.04612185e-02, 3.04506625e-02, ...,\n",
       "         4.49199278e-04, 4.39056995e-04, 4.28909284e-04],\n",
       "        [3.03030303e-02, 2.84598727e-02, 2.66254942e-02, ...,\n",
       "         1.75131660e-13, 1.58338691e-13, 1.43119807e-13],\n",
       "        [3.03030303e-02, 2.98129016e-02, 2.90710948e-02, ...,\n",
       "         9.43221202e-06, 9.23467518e-06, 9.02699510e-06]]),\n",
       " 0: array([[2.48821807e-01, 2.67916650e-01, 2.63575512e-01, ...,\n",
       "         0.00000000e+00, 0.00000000e+00, 0.00000000e+00],\n",
       "        [3.46769169e-03, 2.24161407e-03, 1.62230295e-03, ...,\n",
       "         0.00000000e+00, 0.00000000e+00, 0.00000000e+00],\n",
       "        [3.51966075e-05, 3.51036067e-05, 3.45857465e-05, ...,\n",
       "         0.00000000e+00, 0.00000000e+00, 0.00000000e+00],\n",
       "        ...,\n",
       "        [1.33657261e-01, 1.72931780e-01, 2.06708272e-01, ...,\n",
       "         8.05705999e-02, 7.48418860e-02, 6.93903038e-02],\n",
       "        [5.98064828e-02, 5.00516663e-02, 3.94804764e-02, ...,\n",
       "         0.00000000e+00, 0.00000000e+00, 0.00000000e+00],\n",
       "        [3.94170818e-02, 3.88361427e-02, 3.86573742e-02, ...,\n",
       "         0.00000000e+00, 0.00000000e+00, 0.00000000e+00]])}"
      ]
     },
     "execution_count": 166,
     "metadata": {},
     "output_type": "execute_result"
    }
   ],
   "source": [
    "data['n_traj_dict']"
   ]
  },
  {
   "cell_type": "code",
   "execution_count": 167,
   "metadata": {
    "ExecuteTime": {
     "end_time": "2019-11-15T17:09:57.692385Z",
     "start_time": "2019-11-15T17:09:57.417669Z"
    },
    "collapsed": false
   },
   "outputs": [
    {
     "data": {
      "image/png": "[encoded data removed]",
      "text/plain": [
       "<matplotlib.figure.Figure at 0x1c26126a20>"
      ]
     },
     "metadata": {},
     "output_type": "display_data"
    }
   ],
   "source": [
    "n_traj = data['n_traj_dict'][-1]\n",
    "K = n_traj.shape[0]\n",
    "for ii in range(K):\n",
    "    plt.plot(n_traj[ii,:])\n",
    "    \n",
    "plt.yscale('log')"
   ]
  },
  {
   "cell_type": "code",
   "execution_count": 168,
   "metadata": {
    "ExecuteTime": {
     "end_time": "2019-11-15T17:10:00.991270Z",
     "start_time": "2019-11-15T17:10:00.988065Z"
    },
    "collapsed": false
   },
   "outputs": [
    {
     "name": "stdout",
     "output_type": "stream",
     "text": [
      "dict_keys(['sig_S', 'current_species_idx', 'parent_idx_dict', 'K_tot', 'sim_start_time', 'S_mean_ave_list', 'S', 'gamma', 'epoch_num', 'sample_num', 'mu', 'n_traj_dict', 'epoch_time_list', 'D', 'n_init', 'thresh', 'n2_mean_ave_list', 'sim_end_time', 'dt_list', 'S_mean_std_list', 'm', 'seed', 'starting_species_idx_list', 'V_init', 'dt', 'n2_mean_std_list', 'n2_mean_array', 'lambda_mean_ave_list', 'n_mean_ave_list', 'force_mean_ave_list', 'file_name', 'K0', 'corr_mut', 'n0', 'lambda_mean_array', 'S_init', 'n_mean_array', 'N', 'epochs_to_save_traj', 'n_mean_std_list', 'invasion_freq', 'count_short', 'lambda_mean_std_list', 'V', 'epoch_timescale', 'n_init_list', 'force_mean_std_list'])\n"
     ]
    }
   ],
   "source": [
    "print(data.keys())"
   ]
  },
  {
   "cell_type": "code",
   "execution_count": 172,
   "metadata": {
    "ExecuteTime": {
     "end_time": "2019-11-15T17:10:16.242069Z",
     "start_time": "2019-11-15T17:10:16.237350Z"
    },
    "collapsed": false
   },
   "outputs": [
    {
     "data": {
      "text/plain": [
       "[0.14914136657601845,\n",
       " 0.1459668139749145,\n",
       " 0.14665912696609273,\n",
       " 0.14653082125221079,\n",
       " 0.1400005767141467,\n",
       " 0.13626986800567273]"
      ]
     },
     "execution_count": 172,
     "metadata": {},
     "output_type": "execute_result"
    }
   ],
   "source": [
    "data['S_mean_ave_list']"
   ]
  },
  {
   "cell_type": "code",
   "execution_count": 173,
   "metadata": {
    "ExecuteTime": {
     "end_time": "2019-11-15T17:10:25.192939Z",
     "start_time": "2019-11-15T17:10:25.186457Z"
    },
    "collapsed": false
   },
   "outputs": [
    {
     "data": {
      "text/plain": [
       "[array([-0.38084834,  0.2205694 , -0.14424036, -0.24084348, -0.3995054 ,\n",
       "        -0.43199661, -0.15206019,  0.27025124,  0.09846022, -0.29856798,\n",
       "        -0.19589094,  0.03515733, -0.00836473, -0.87100571, -0.01822147,\n",
       "        -0.35887331,  0.12428865,  0.2928585 , -0.56288652,  0.22980601,\n",
       "         0.04677926, -0.7227832 , -0.12173687,  0.14749135,  0.23007154,\n",
       "        -0.05885902,  0.01862121,  0.00366338, -0.2108421 ,  0.03422039]),\n",
       " array([ 0.29307575,  0.2074248 , -0.20728251, -0.03376791,  0.10404617,\n",
       "         0.29251237,  0.27051973,  0.02061087,  0.20576675, -0.10027346,\n",
       "        -0.01196976,  0.15002236, -0.34513743, -0.0689253 ]),\n",
       " array([ 0.29503593,  0.20381596, -0.03215684,  0.10522347,  0.29425792,\n",
       "         0.27026474,  0.02201441,  0.20757958, -0.01018074, -0.34219414,\n",
       "        -0.50150435,  0.03997865]),\n",
       " array([ 0.29396713,  0.20489405, -0.03261541,  0.10514532,  0.29333558,\n",
       "         0.26748418,  0.02172027,  0.20676292, -0.01066291, -0.2415955 ,\n",
       "        -0.02035322,  0.10962294]),\n",
       " array([ 0.27658972,  0.16771882, -0.05147063,  0.08646935,  0.27534985,\n",
       "         0.2568075 ,  0.00299594,  0.18773198, -0.02881794, -0.27683767,\n",
       "         0.20247397, -0.44346919, -0.14892692]),\n",
       " array([ 0.26112602,  0.12730691, -0.06636995,  0.07138387,  0.25954059,\n",
       "         0.23279451, -0.01254417,  0.17362146, -0.04407319,  0.18698386,\n",
       "         0.10266176, -0.00797051,  0.1446597 ])]"
      ]
     },
     "execution_count": 173,
     "metadata": {},
     "output_type": "execute_result"
    }
   ],
   "source": [
    "data['force_mean_ave_list']"
   ]
  },
  {
   "cell_type": "code",
   "execution_count": null,
   "metadata": {
    "collapsed": true
   },
   "outputs": [],
   "source": []
  }
 ],
 "metadata": {
  "kernelspec": {
   "display_name": "Python 3",
   "language": "python",
   "name": "python3"
  },
  "language_info": {
   "codemirror_mode": {
    "name": "ipython",
    "version": 3
   },
   "file_extension": ".py",
   "mimetype": "text/x-python",
   "name": "python",
   "nbconvert_exporter": "python",
   "pygments_lexer": "ipython3",
   "version": "3.5.2"
  },
  "latex_envs": {
   "LaTeX_envs_menu_present": true,
   "autocomplete": true,
   "bibliofile": "biblio.bib",
   "cite_by": "apalike",
   "current_citInitial": 1,
   "eqLabelWithNumbers": true,
   "eqNumInitial": 1,
   "hotkeys": {
    "equation": "Ctrl-E",
    "itemize": "Ctrl-I"
   },
   "labels_anchors": false,
   "latex_user_defs": false,
   "report_style_numbering": false,
   "user_envs_cfg": false
  }
 },
 "nbformat": 4,
 "nbformat_minor": 0
}
