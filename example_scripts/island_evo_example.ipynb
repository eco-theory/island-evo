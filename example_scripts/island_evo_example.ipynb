{
 "cells": [
  {
   "cell_type": "code",
   "execution_count": 49,
   "metadata": {
    "ExecuteTime": {
     "end_time": "2020-01-29T22:27:38.620512Z",
     "start_time": "2020-01-29T22:27:38.584634Z"
    },
    "collapsed": false
   },
   "outputs": [],
   "source": [
    "import sys\n",
    "import numpy as np\n",
    "import matplotlib.pyplot as plt\n",
    "from importlib import reload\n",
    "\n",
    "#Change this to directory with simulation methods.\n",
    "sys.path.append(\"/Users/michaelpearce/Google Drive/Research/Projects/Ecology Projects/Island Eco model/Simulations/Cluster/island-evo-collab/island-evo\")\n",
    "import island_evo_simulation_methods as ie\n",
    "reload(ie)  #Updates changes\n",
    "\n",
    "\n",
    "%matplotlib inline\n",
    "\n",
    "font = {'family' : 'serif',\n",
    "        'size'   : 16}\n",
    "text = {'usetex' : True}  #Uses latex to interpret plot labels.\n",
    "\n",
    "plt.rc('font', **font)\n",
    "plt.rc('text',**text)\n",
    "plt.rc('axes', titlesize=18)"
   ]
  },
  {
   "cell_type": "code",
   "execution_count": 57,
   "metadata": {
    "ExecuteTime": {
     "end_time": "2020-01-29T22:37:53.945933Z",
     "start_time": "2020-01-29T22:37:23.655032Z"
    },
    "collapsed": false
   },
   "outputs": [
    {
     "name": "stdout",
     "output_type": "stream",
     "text": [
      "0\n",
      "1\n",
      "2\n",
      "3\n",
      "4\n",
      "5\n",
      "6\n",
      "7\n"
     ]
    }
   ],
   "source": [
    "# Example of running script\n",
    "K = 200\n",
    "D = 20\n",
    "m = 1e-8\n",
    "gamma = -0.8\n",
    "thresh = -40\n",
    "invasion_freq_factor = 1\n",
    "max_frac_change = .75\n",
    "mu = 3\n",
    "epoch_timescale = 2\n",
    "epoch_num = 8\n",
    "corr_mut = 0\n",
    "sig_S = .1\n",
    "new_save_epoch_num = 4\n",
    "\n",
    "epochs_to_save_traj = []\n",
    "long_epochs = []\n",
    "long_factor = 5\n",
    "sample_num = 1\n",
    "\n",
    "file_name = 'test_island_evo'\n",
    "seed = 0\n",
    "\n",
    "Evo = ie.IslandsEvoAdaptiveStep(file_name, D, K, m, gamma, thresh, mu, seed, epoch_timescale,epoch_num = epoch_num,\n",
    "            max_frac_change=max_frac_change, corr_mut=corr_mut, sig_S=sig_S, epochs_to_save_traj = epochs_to_save_traj,\n",
    "             long_epochs=long_epochs,long_factor=long_factor,invasion_freq_factor = invasion_freq_factor,new_save_epoch_num = new_save_epoch_num)\n",
    "Evo.start_simulation()"
   ]
  },
  {
   "cell_type": "code",
   "execution_count": 59,
   "metadata": {
    "ExecuteTime": {
     "end_time": "2020-01-29T22:38:44.858948Z",
     "start_time": "2020-01-29T22:38:37.580592Z"
    },
    "collapsed": false
   },
   "outputs": [
    {
     "name": "stdout",
     "output_type": "stream",
     "text": [
      "8\n",
      "9\n"
     ]
    }
   ],
   "source": [
    "# Extend simulation by additional epochs\n",
    "ie.extend_adaptive_step_sim(file_name,2)"
   ]
  },
  {
   "cell_type": "code",
   "execution_count": 60,
   "metadata": {
    "ExecuteTime": {
     "end_time": "2020-01-29T22:38:46.567316Z",
     "start_time": "2020-01-29T22:38:46.536107Z"
    },
    "collapsed": false
   },
   "outputs": [],
   "source": [
    "# Combine separate \n",
    "ie.combine_save_files(file_name)"
   ]
  },
  {
   "cell_type": "code",
   "execution_count": 61,
   "metadata": {
    "ExecuteTime": {
     "end_time": "2020-01-29T22:38:49.823542Z",
     "start_time": "2020-01-29T22:38:49.814659Z"
    },
    "collapsed": true
   },
   "outputs": [],
   "source": [
    "# Load data\n",
    "with np.load(file_name+'.npz') as sim_data:\n",
    "    data = sim_data['data'].item()"
   ]
  },
  {
   "cell_type": "code",
   "execution_count": 62,
   "metadata": {
    "ExecuteTime": {
     "end_time": "2020-01-29T22:38:51.350472Z",
     "start_time": "2020-01-29T22:38:50.911509Z"
    },
    "collapsed": false
   },
   "outputs": [
    {
     "data": {
      "image/png": "[encoded data removed]",
      "text/plain": [
       "<matplotlib.figure.Figure at 0x1c26968240>"
      ]
     },
     "metadata": {},
     "output_type": "display_data"
    }
   ],
   "source": [
    "# Number of strains vs successful invasions.\n",
    "invasion_per_epoch = [np.sum(invasion_bool) for invasion_bool in data['invasion_success_list']]\n",
    "invasion_cumsum = np.cumsum(invasion_per_epoch)\n",
    "surv_num = [np.sum(surv_bool) for surv_bool in data['surviving_bool_list']]\n",
    "s_mean = data['S_mean_ave_list']\n",
    "\n",
    "plt.figure(figsize=(12,4))\n",
    "plt.subplot(1,2,1)\n",
    "plt.plot(invasion_cumsum,surv_num)\n",
    "plt.xlabel('Successful invasions')\n",
    "plt.ylabel(r'\\# of strains')\n",
    "\n",
    "plt.subplot(1,2,2)\n",
    "plt.plot(invasion_cumsum,s_mean)\n",
    "plt.xlabel('Successful invasions')\n",
    "plt.ylabel(r'Mean $s_i$')\n",
    "\n",
    "plt.tight_layout()"
   ]
  },
  {
   "cell_type": "code",
   "execution_count": null,
   "metadata": {
    "collapsed": true
   },
   "outputs": [],
   "source": []
  }
 ],
 "metadata": {
  "kernelspec": {
   "display_name": "Python 3",
   "language": "python",
   "name": "python3"
  },
  "language_info": {
   "codemirror_mode": {
    "name": "ipython",
    "version": 3
   },
   "file_extension": ".py",
   "mimetype": "text/x-python",
   "name": "python",
   "nbconvert_exporter": "python",
   "pygments_lexer": "ipython3",
   "version": "3.5.2"
  },
  "latex_envs": {
   "LaTeX_envs_menu_present": true,
   "autocomplete": true,
   "bibliofile": "biblio.bib",
   "cite_by": "apalike",
   "current_citInitial": 1,
   "eqLabelWithNumbers": true,
   "eqNumInitial": 1,
   "hotkeys": {
    "equation": "Ctrl-E",
    "itemize": "Ctrl-I"
   },
   "labels_anchors": false,
   "latex_user_defs": false,
   "report_style_numbering": false,
   "user_envs_cfg": false
  }
 },
 "nbformat": 4,
 "nbformat_minor": 0
}
